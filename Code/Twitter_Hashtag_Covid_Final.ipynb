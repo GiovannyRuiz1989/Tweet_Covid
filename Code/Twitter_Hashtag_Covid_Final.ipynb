{
  "nbformat": 4,
  "nbformat_minor": 0,
  "metadata": {
    "colab": {
      "name": "Twitter - Hashtag Covid Final.ipynb",
      "provenance": [],
      "collapsed_sections": []
    },
    "kernelspec": {
      "name": "python3",
      "display_name": "Python 3"
    },
    "language_info": {
      "name": "python"
    }
  },
  "cells": [
    {
      "cell_type": "markdown",
      "metadata": {
        "id": "m0z9xyKR_PqE"
      },
      "source": [
        "This script explores the correlation between Twitter hashtag tweets and COVID-19 related statistics.\n",
        "\n",
        "\n",
        "*   Tweets vs. New Florida Positive Cases\n",
        "*   Tweets vs. Dade Percent Positive\n",
        "*   Tweets vs. Dade Occupied Beds\n",
        "\n"
      ]
    },
    {
      "cell_type": "markdown",
      "metadata": {
        "id": "03pGOFBa_cXg"
      },
      "source": [
        "# Import Libraries"
      ]
    },
    {
      "cell_type": "code",
      "metadata": {
        "id": "K8Z6gejOrRks"
      },
      "source": [
        "#!pip install tweepy\n",
        "import tweepy\n",
        "import pandas as pd\n",
        "import numpy as np\n",
        "import matplotlib.pyplot as plt\n",
        "import seaborn as sns\n",
        "import json\n",
        "from tweepy.streaming import StreamListener\n",
        "from tweepy import OAuthHandler\n",
        "from tweepy import Stream\n",
        "from time import sleep\n",
        "from datetime import datetime"
      ],
      "execution_count": 8,
      "outputs": []
    },
    {
      "cell_type": "markdown",
      "metadata": {
        "id": "anMQQEGz_f6N"
      },
      "source": [
        "# Declare Global Variables"
      ]
    },
    {
      "cell_type": "code",
      "metadata": {
        "id": "neN-J-FtHnWm"
      },
      "source": [
        "# Data Files\n",
        "TWEETS_FILE = \"tweets.csv\"\n",
        "COVID_FILE = \"covid_dade_20210421-29.csv\"\n",
        "\n",
        "# Keys for access to Twitter API\n",
        "CONSUMER_KEY = \"vos7herQgmNcFceJ5Uc7GtQrF\"\n",
        "CONSUMER_SECRET = \"mnNnOw4sKSW6RiWgCNKwBAei0OfsnvDS2PXF0Xgr6dfxxLmLxr\"\n",
        "ACCESS_KEY = \"1082988361416171523-M6A31iNOtALrfe16mZVasxEy0FITdf\"\n",
        "ACCESS_SECRET = \"V5T4xJilyvmwbSCoDwuPRqODyRS8hwY9KI9LGbcJhWhhk\"\n",
        "\n",
        "# Authentication variables\n",
        "auth = tweepy.OAuthHandler(CONSUMER_KEY, CONSUMER_SECRET)\n",
        "auth.set_access_token(ACCESS_KEY, ACCESS_SECRET)\n",
        "api = tweepy.API(auth, wait_on_rate_limit=True)\n",
        "\n",
        "# Connects to twitter to download tweets\n",
        "def scrape(words, date_since, date_until, numOfTweets):\n",
        "    #collect tweets\n",
        "    tweets = tweepy.Cursor(api.search,q=words,since=date_since,until=date_until).items(numOfTweets)\n",
        "    #for tweet in tweets:\n",
        "    #  print(tweet)\n",
        "    users_locs = [[tweet.text, tweet.created_at] for tweet in tweets] #tweet.user.location\n",
        "                 \n",
        "    # Creating DataFrame using pandas\n",
        "    db = pd.DataFrame(data=users_locs, columns=['text', 'created at'])\n",
        "    db['created at'] = pd.to_datetime(db['created at'], errors='coerce')\n",
        "    db[\"date\"] = db[\"created at\"].dt.date\n",
        "    return db"
      ],
      "execution_count": 2,
      "outputs": []
    },
    {
      "cell_type": "markdown",
      "metadata": {
        "id": "yjMy6GrCBmPl"
      },
      "source": [
        "# Data Preparation"
      ]
    },
    {
      "cell_type": "markdown",
      "metadata": {
        "id": "mQzshYrNAdZo"
      },
      "source": [
        "## Download Tweets (only if not tweets.csv does not exist)"
      ]
    },
    {
      "cell_type": "code",
      "metadata": {
        "id": "OOUjYQdDAh0j"
      },
      "source": [
        "# Download one day's worth of tweets per iteration\n",
        "words = '#miami'\n",
        "\n",
        "print(\"Starting:\", datetime.now())\n",
        "tweets = pd.DataFrame()\n",
        "\n",
        "# Download the last 14 days of tweets\n",
        "for i in range(1, 15):\n",
        "    startDate = (datetime.now() - timedelta(days = i)).strftime(\"%Y-%m-%d\")\n",
        "    endDate = (datetime.now() - timedelta(days = i-1)).strftime(\"%Y-%m-%d\")\n",
        "    attempts = 0\n",
        "\n",
        "    # Try to download each tweet at least 3 times\n",
        "    while attempts < 3:\n",
        "\n",
        "        print(startDate, \"Attempt:\", attempts, \"~\", datetime.now())\n",
        "        currTweets = scrape(words, startDate, endDate, 5000)\n",
        "\n",
        "        if len(currTweets) == 0:\n",
        "            attempts = attempts + 1\n",
        "            sleep(60)\n",
        "        else:\n",
        "            print(startDate)\n",
        "            tweets = pd.concat([tweets, currTweets])\n",
        "            print(\"Tweets length:\", len(tweets), datetime.now())\n",
        "            display(tweets)\n",
        "            tweets.to_csv(\"tweets.csv\", index = False, header = True, mode = 'w')\n",
        "            break\n",
        "\n",
        "display(tweets)\n",
        "\n",
        "print('Complete:', datetime.now())"
      ],
      "execution_count": null,
      "outputs": []
    },
    {
      "cell_type": "markdown",
      "metadata": {
        "id": "f78Xmwy0BC8g"
      },
      "source": [
        "## Load tweets"
      ]
    },
    {
      "cell_type": "code",
      "metadata": {
        "colab": {
          "base_uri": "https://localhost:8080/",
          "height": 424
        },
        "id": "lnOkV5uTBHeb",
        "outputId": "3ed3c740-6707-4674-a629-3f8cae524a5e"
      },
      "source": [
        "# Read the saved tweets\n",
        "tweets = pd.read_csv(TWEETS_FILE)\n",
        "tweets[\"date\"] = pd.to_datetime(tweets[\"date\"])\n",
        "display(tweets)"
      ],
      "execution_count": 3,
      "outputs": [
        {
          "output_type": "display_data",
          "data": {
            "text/html": [
              "<div>\n",
              "<style scoped>\n",
              "    .dataframe tbody tr th:only-of-type {\n",
              "        vertical-align: middle;\n",
              "    }\n",
              "\n",
              "    .dataframe tbody tr th {\n",
              "        vertical-align: top;\n",
              "    }\n",
              "\n",
              "    .dataframe thead th {\n",
              "        text-align: right;\n",
              "    }\n",
              "</style>\n",
              "<table border=\"1\" class=\"dataframe\">\n",
              "  <thead>\n",
              "    <tr style=\"text-align: right;\">\n",
              "      <th></th>\n",
              "      <th>text</th>\n",
              "      <th>created at</th>\n",
              "      <th>date</th>\n",
              "    </tr>\n",
              "  </thead>\n",
              "  <tbody>\n",
              "    <tr>\n",
              "      <th>0</th>\n",
              "      <td>Relaxing on the beach in Miami with the wife.#...</td>\n",
              "      <td>2021-04-30 14:13:23</td>\n",
              "      <td>2021-04-30</td>\n",
              "    </tr>\n",
              "    <tr>\n",
              "      <th>1</th>\n",
              "      <td>RT @betashop: I arrived in Miami 1 week ago to...</td>\n",
              "      <td>2021-04-30 14:13:17</td>\n",
              "      <td>2021-04-30</td>\n",
              "    </tr>\n",
              "    <tr>\n",
              "      <th>2</th>\n",
              "      <td>RT @ValentinaP444: 🆘🆘URGENT! #FL #MIAMI DEADli...</td>\n",
              "      <td>2021-04-30 14:13:17</td>\n",
              "      <td>2021-04-30</td>\n",
              "    </tr>\n",
              "    <tr>\n",
              "      <th>3</th>\n",
              "      <td>RT @ConflitsFrance: 🇺🇸 DRAME | #USA, mardi der...</td>\n",
              "      <td>2021-04-30 14:12:51</td>\n",
              "      <td>2021-04-30</td>\n",
              "    </tr>\n",
              "    <tr>\n",
              "      <th>4</th>\n",
              "      <td>RT @ValentinaP444: 🆘🆘#A2222472 #FL #MIAMI 3yo ...</td>\n",
              "      <td>2021-04-30 14:12:50</td>\n",
              "      <td>2021-04-30</td>\n",
              "    </tr>\n",
              "    <tr>\n",
              "      <th>...</th>\n",
              "      <td>...</td>\n",
              "      <td>...</td>\n",
              "      <td>...</td>\n",
              "    </tr>\n",
              "    <tr>\n",
              "      <th>24287</th>\n",
              "      <td>RT @Rise_Realty: new #Miami #LittleRiver #Busi...</td>\n",
              "      <td>2021-04-22 16:46:11</td>\n",
              "      <td>2021-04-22</td>\n",
              "    </tr>\n",
              "    <tr>\n",
              "      <th>24288</th>\n",
              "      <td>RT @Guajiritasoy: #ConsularServicesInCuba  #cu...</td>\n",
              "      <td>2021-04-22 16:46:08</td>\n",
              "      <td>2021-04-22</td>\n",
              "    </tr>\n",
              "    <tr>\n",
              "      <th>24289</th>\n",
              "      <td>It's 83F in #Miami with cloudy skies &amp;amp; win...</td>\n",
              "      <td>2021-04-22 16:46:07</td>\n",
              "      <td>2021-04-22</td>\n",
              "    </tr>\n",
              "    <tr>\n",
              "      <th>24290</th>\n",
              "      <td>RT @timand2037: The #CIA proposed bombing refu...</td>\n",
              "      <td>2021-04-22 16:45:30</td>\n",
              "      <td>2021-04-22</td>\n",
              "    </tr>\n",
              "    <tr>\n",
              "      <th>24291</th>\n",
              "      <td>RT @timand2037: The #CIA proposed bombing refu...</td>\n",
              "      <td>2021-04-22 16:44:57</td>\n",
              "      <td>2021-04-22</td>\n",
              "    </tr>\n",
              "  </tbody>\n",
              "</table>\n",
              "<p>24292 rows × 3 columns</p>\n",
              "</div>"
            ],
            "text/plain": [
              "                                                    text  ...       date\n",
              "0      Relaxing on the beach in Miami with the wife.#...  ... 2021-04-30\n",
              "1      RT @betashop: I arrived in Miami 1 week ago to...  ... 2021-04-30\n",
              "2      RT @ValentinaP444: 🆘🆘URGENT! #FL #MIAMI DEADli...  ... 2021-04-30\n",
              "3      RT @ConflitsFrance: 🇺🇸 DRAME | #USA, mardi der...  ... 2021-04-30\n",
              "4      RT @ValentinaP444: 🆘🆘#A2222472 #FL #MIAMI 3yo ...  ... 2021-04-30\n",
              "...                                                  ...  ...        ...\n",
              "24287  RT @Rise_Realty: new #Miami #LittleRiver #Busi...  ... 2021-04-22\n",
              "24288  RT @Guajiritasoy: #ConsularServicesInCuba  #cu...  ... 2021-04-22\n",
              "24289  It's 83F in #Miami with cloudy skies &amp; win...  ... 2021-04-22\n",
              "24290  RT @timand2037: The #CIA proposed bombing refu...  ... 2021-04-22\n",
              "24291  RT @timand2037: The #CIA proposed bombing refu...  ... 2021-04-22\n",
              "\n",
              "[24292 rows x 3 columns]"
            ]
          },
          "metadata": {
            "tags": []
          }
        }
      ]
    },
    {
      "cell_type": "code",
      "metadata": {
        "colab": {
          "base_uri": "https://localhost:8080/",
          "height": 331
        },
        "id": "hze2rXQkBLlg",
        "outputId": "f82cbad3-6601-40cd-ca5e-0edb34a927d2"
      },
      "source": [
        "# Aggregate the tweets to count tweets per day\n",
        "# Count tweets per date: Aggregate tweets by date\n",
        "tweetsSummary = tweets.groupby([\"date\"]).agg({'text' : ['count']})\n",
        "tweetsSummary.columns = tweetsSummary.columns.get_level_values(0)\n",
        "tweetsSummary.reset_index(inplace= True)\n",
        "tweetsSummary.rename(columns = {\"text\": \"tweets\"}, inplace = True)\n",
        "display(tweetsSummary)\n",
        "\n",
        "tweetsSummary.to_csv(\"Tweet_Summary.csv\", index = False, header = True) "
      ],
      "execution_count": 4,
      "outputs": [
        {
          "output_type": "display_data",
          "data": {
            "text/html": [
              "<div>\n",
              "<style scoped>\n",
              "    .dataframe tbody tr th:only-of-type {\n",
              "        vertical-align: middle;\n",
              "    }\n",
              "\n",
              "    .dataframe tbody tr th {\n",
              "        vertical-align: top;\n",
              "    }\n",
              "\n",
              "    .dataframe thead th {\n",
              "        text-align: right;\n",
              "    }\n",
              "</style>\n",
              "<table border=\"1\" class=\"dataframe\">\n",
              "  <thead>\n",
              "    <tr style=\"text-align: right;\">\n",
              "      <th></th>\n",
              "      <th>date</th>\n",
              "      <th>tweets</th>\n",
              "    </tr>\n",
              "  </thead>\n",
              "  <tbody>\n",
              "    <tr>\n",
              "      <th>0</th>\n",
              "      <td>2021-04-22</td>\n",
              "      <td>1139</td>\n",
              "    </tr>\n",
              "    <tr>\n",
              "      <th>1</th>\n",
              "      <td>2021-04-23</td>\n",
              "      <td>2449</td>\n",
              "    </tr>\n",
              "    <tr>\n",
              "      <th>2</th>\n",
              "      <td>2021-04-24</td>\n",
              "      <td>2173</td>\n",
              "    </tr>\n",
              "    <tr>\n",
              "      <th>3</th>\n",
              "      <td>2021-04-25</td>\n",
              "      <td>4406</td>\n",
              "    </tr>\n",
              "    <tr>\n",
              "      <th>4</th>\n",
              "      <td>2021-04-26</td>\n",
              "      <td>3154</td>\n",
              "    </tr>\n",
              "    <tr>\n",
              "      <th>5</th>\n",
              "      <td>2021-04-27</td>\n",
              "      <td>3216</td>\n",
              "    </tr>\n",
              "    <tr>\n",
              "      <th>6</th>\n",
              "      <td>2021-04-28</td>\n",
              "      <td>2952</td>\n",
              "    </tr>\n",
              "    <tr>\n",
              "      <th>7</th>\n",
              "      <td>2021-04-29</td>\n",
              "      <td>2934</td>\n",
              "    </tr>\n",
              "    <tr>\n",
              "      <th>8</th>\n",
              "      <td>2021-04-30</td>\n",
              "      <td>1869</td>\n",
              "    </tr>\n",
              "  </tbody>\n",
              "</table>\n",
              "</div>"
            ],
            "text/plain": [
              "        date  tweets\n",
              "0 2021-04-22    1139\n",
              "1 2021-04-23    2449\n",
              "2 2021-04-24    2173\n",
              "3 2021-04-25    4406\n",
              "4 2021-04-26    3154\n",
              "5 2021-04-27    3216\n",
              "6 2021-04-28    2952\n",
              "7 2021-04-29    2934\n",
              "8 2021-04-30    1869"
            ]
          },
          "metadata": {
            "tags": []
          }
        }
      ]
    },
    {
      "cell_type": "markdown",
      "metadata": {
        "id": "JRRERXCJBaeR"
      },
      "source": [
        "## Load Pre-Downloaded COVID Data"
      ]
    },
    {
      "cell_type": "code",
      "metadata": {
        "colab": {
          "base_uri": "https://localhost:8080/",
          "height": 300
        },
        "id": "2xQQm-BGBc_k",
        "outputId": "1eee032c-1461-45a4-9d40-462be822399e"
      },
      "source": [
        "# Load COVID Data\n",
        "covid = pd.read_csv(COVID_FILE)\n",
        "covid[\"date\"] = pd.to_datetime(covid[\"date\"])\n",
        "display(covid)"
      ],
      "execution_count": 5,
      "outputs": [
        {
          "output_type": "display_data",
          "data": {
            "text/html": [
              "<div>\n",
              "<style scoped>\n",
              "    .dataframe tbody tr th:only-of-type {\n",
              "        vertical-align: middle;\n",
              "    }\n",
              "\n",
              "    .dataframe tbody tr th {\n",
              "        vertical-align: top;\n",
              "    }\n",
              "\n",
              "    .dataframe thead th {\n",
              "        text-align: right;\n",
              "    }\n",
              "</style>\n",
              "<table border=\"1\" class=\"dataframe\">\n",
              "  <thead>\n",
              "    <tr style=\"text-align: right;\">\n",
              "      <th></th>\n",
              "      <th>date</th>\n",
              "      <th>Dade Percent Positive</th>\n",
              "      <th>Negative Cases</th>\n",
              "      <th>Positive Cases</th>\n",
              "      <th>FL New COVID-19 Cases</th>\n",
              "      <th>Dade Available Beds</th>\n",
              "      <th>Dade Occupied Beds</th>\n",
              "    </tr>\n",
              "  </thead>\n",
              "  <tbody>\n",
              "    <tr>\n",
              "      <th>0</th>\n",
              "      <td>2021-04-22</td>\n",
              "      <td>6.73</td>\n",
              "      <td>13219</td>\n",
              "      <td>954</td>\n",
              "      <td>954</td>\n",
              "      <td>1836</td>\n",
              "      <td>6715</td>\n",
              "    </tr>\n",
              "    <tr>\n",
              "      <th>1</th>\n",
              "      <td>2021-04-23</td>\n",
              "      <td>6.29</td>\n",
              "      <td>22111</td>\n",
              "      <td>1484</td>\n",
              "      <td>1484</td>\n",
              "      <td>1826</td>\n",
              "      <td>6706</td>\n",
              "    </tr>\n",
              "    <tr>\n",
              "      <th>2</th>\n",
              "      <td>2021-04-24</td>\n",
              "      <td>6.10</td>\n",
              "      <td>14286</td>\n",
              "      <td>928</td>\n",
              "      <td>928</td>\n",
              "      <td>1805</td>\n",
              "      <td>6726</td>\n",
              "    </tr>\n",
              "    <tr>\n",
              "      <th>3</th>\n",
              "      <td>2021-04-25</td>\n",
              "      <td>6.94</td>\n",
              "      <td>10709</td>\n",
              "      <td>799</td>\n",
              "      <td>799</td>\n",
              "      <td>2031</td>\n",
              "      <td>6472</td>\n",
              "    </tr>\n",
              "    <tr>\n",
              "      <th>4</th>\n",
              "      <td>2021-04-26</td>\n",
              "      <td>6.05</td>\n",
              "      <td>16293</td>\n",
              "      <td>1049</td>\n",
              "      <td>1049</td>\n",
              "      <td>2137</td>\n",
              "      <td>6550</td>\n",
              "    </tr>\n",
              "    <tr>\n",
              "      <th>5</th>\n",
              "      <td>2021-04-27</td>\n",
              "      <td>5.25</td>\n",
              "      <td>16491</td>\n",
              "      <td>913</td>\n",
              "      <td>913</td>\n",
              "      <td>1929</td>\n",
              "      <td>6624</td>\n",
              "    </tr>\n",
              "    <tr>\n",
              "      <th>6</th>\n",
              "      <td>2021-04-28</td>\n",
              "      <td>5.53</td>\n",
              "      <td>18295</td>\n",
              "      <td>1070</td>\n",
              "      <td>1070</td>\n",
              "      <td>1847</td>\n",
              "      <td>6693</td>\n",
              "    </tr>\n",
              "    <tr>\n",
              "      <th>7</th>\n",
              "      <td>2021-04-29</td>\n",
              "      <td>5.37</td>\n",
              "      <td>16361</td>\n",
              "      <td>929</td>\n",
              "      <td>929</td>\n",
              "      <td>1770</td>\n",
              "      <td>6765</td>\n",
              "    </tr>\n",
              "  </tbody>\n",
              "</table>\n",
              "</div>"
            ],
            "text/plain": [
              "        date  Dade Percent Positive  ...  Dade Available Beds  Dade Occupied Beds\n",
              "0 2021-04-22                   6.73  ...                 1836                6715\n",
              "1 2021-04-23                   6.29  ...                 1826                6706\n",
              "2 2021-04-24                   6.10  ...                 1805                6726\n",
              "3 2021-04-25                   6.94  ...                 2031                6472\n",
              "4 2021-04-26                   6.05  ...                 2137                6550\n",
              "5 2021-04-27                   5.25  ...                 1929                6624\n",
              "6 2021-04-28                   5.53  ...                 1847                6693\n",
              "7 2021-04-29                   5.37  ...                 1770                6765\n",
              "\n",
              "[8 rows x 7 columns]"
            ]
          },
          "metadata": {
            "tags": []
          }
        }
      ]
    },
    {
      "cell_type": "markdown",
      "metadata": {
        "id": "-BDKk8iUBure"
      },
      "source": [
        "## Merge Tweet Summary + COVID Data"
      ]
    },
    {
      "cell_type": "code",
      "metadata": {
        "colab": {
          "base_uri": "https://localhost:8080/",
          "height": 300
        },
        "id": "29lKE9TsByka",
        "outputId": "b8663d4a-30fe-4bf6-bb9a-1bd0aa556da3"
      },
      "source": [
        "# Merge Tweets and COVID data by date\n",
        "tweetsCovid = pd.merge(tweetsSummary, covid, left_on = \"date\", right_on = \"date\")\n",
        "display(tweetsCovid)"
      ],
      "execution_count": 6,
      "outputs": [
        {
          "output_type": "display_data",
          "data": {
            "text/html": [
              "<div>\n",
              "<style scoped>\n",
              "    .dataframe tbody tr th:only-of-type {\n",
              "        vertical-align: middle;\n",
              "    }\n",
              "\n",
              "    .dataframe tbody tr th {\n",
              "        vertical-align: top;\n",
              "    }\n",
              "\n",
              "    .dataframe thead th {\n",
              "        text-align: right;\n",
              "    }\n",
              "</style>\n",
              "<table border=\"1\" class=\"dataframe\">\n",
              "  <thead>\n",
              "    <tr style=\"text-align: right;\">\n",
              "      <th></th>\n",
              "      <th>date</th>\n",
              "      <th>tweets</th>\n",
              "      <th>Dade Percent Positive</th>\n",
              "      <th>Negative Cases</th>\n",
              "      <th>Positive Cases</th>\n",
              "      <th>FL New COVID-19 Cases</th>\n",
              "      <th>Dade Available Beds</th>\n",
              "      <th>Dade Occupied Beds</th>\n",
              "    </tr>\n",
              "  </thead>\n",
              "  <tbody>\n",
              "    <tr>\n",
              "      <th>0</th>\n",
              "      <td>2021-04-22</td>\n",
              "      <td>1139</td>\n",
              "      <td>6.73</td>\n",
              "      <td>13219</td>\n",
              "      <td>954</td>\n",
              "      <td>954</td>\n",
              "      <td>1836</td>\n",
              "      <td>6715</td>\n",
              "    </tr>\n",
              "    <tr>\n",
              "      <th>1</th>\n",
              "      <td>2021-04-23</td>\n",
              "      <td>2449</td>\n",
              "      <td>6.29</td>\n",
              "      <td>22111</td>\n",
              "      <td>1484</td>\n",
              "      <td>1484</td>\n",
              "      <td>1826</td>\n",
              "      <td>6706</td>\n",
              "    </tr>\n",
              "    <tr>\n",
              "      <th>2</th>\n",
              "      <td>2021-04-24</td>\n",
              "      <td>2173</td>\n",
              "      <td>6.10</td>\n",
              "      <td>14286</td>\n",
              "      <td>928</td>\n",
              "      <td>928</td>\n",
              "      <td>1805</td>\n",
              "      <td>6726</td>\n",
              "    </tr>\n",
              "    <tr>\n",
              "      <th>3</th>\n",
              "      <td>2021-04-25</td>\n",
              "      <td>4406</td>\n",
              "      <td>6.94</td>\n",
              "      <td>10709</td>\n",
              "      <td>799</td>\n",
              "      <td>799</td>\n",
              "      <td>2031</td>\n",
              "      <td>6472</td>\n",
              "    </tr>\n",
              "    <tr>\n",
              "      <th>4</th>\n",
              "      <td>2021-04-26</td>\n",
              "      <td>3154</td>\n",
              "      <td>6.05</td>\n",
              "      <td>16293</td>\n",
              "      <td>1049</td>\n",
              "      <td>1049</td>\n",
              "      <td>2137</td>\n",
              "      <td>6550</td>\n",
              "    </tr>\n",
              "    <tr>\n",
              "      <th>5</th>\n",
              "      <td>2021-04-27</td>\n",
              "      <td>3216</td>\n",
              "      <td>5.25</td>\n",
              "      <td>16491</td>\n",
              "      <td>913</td>\n",
              "      <td>913</td>\n",
              "      <td>1929</td>\n",
              "      <td>6624</td>\n",
              "    </tr>\n",
              "    <tr>\n",
              "      <th>6</th>\n",
              "      <td>2021-04-28</td>\n",
              "      <td>2952</td>\n",
              "      <td>5.53</td>\n",
              "      <td>18295</td>\n",
              "      <td>1070</td>\n",
              "      <td>1070</td>\n",
              "      <td>1847</td>\n",
              "      <td>6693</td>\n",
              "    </tr>\n",
              "    <tr>\n",
              "      <th>7</th>\n",
              "      <td>2021-04-29</td>\n",
              "      <td>2934</td>\n",
              "      <td>5.37</td>\n",
              "      <td>16361</td>\n",
              "      <td>929</td>\n",
              "      <td>929</td>\n",
              "      <td>1770</td>\n",
              "      <td>6765</td>\n",
              "    </tr>\n",
              "  </tbody>\n",
              "</table>\n",
              "</div>"
            ],
            "text/plain": [
              "        date  tweets  ...  Dade Available Beds  Dade Occupied Beds\n",
              "0 2021-04-22    1139  ...                 1836                6715\n",
              "1 2021-04-23    2449  ...                 1826                6706\n",
              "2 2021-04-24    2173  ...                 1805                6726\n",
              "3 2021-04-25    4406  ...                 2031                6472\n",
              "4 2021-04-26    3154  ...                 2137                6550\n",
              "5 2021-04-27    3216  ...                 1929                6624\n",
              "6 2021-04-28    2952  ...                 1847                6693\n",
              "7 2021-04-29    2934  ...                 1770                6765\n",
              "\n",
              "[8 rows x 8 columns]"
            ]
          },
          "metadata": {
            "tags": []
          }
        }
      ]
    },
    {
      "cell_type": "markdown",
      "metadata": {
        "id": "cK1W0wXKB4dd"
      },
      "source": [
        "# Data Visualization"
      ]
    },
    {
      "cell_type": "markdown",
      "metadata": {
        "id": "kWCPZuaDCDVP"
      },
      "source": [
        "## Pair Plot"
      ]
    },
    {
      "cell_type": "code",
      "metadata": {
        "colab": {
          "base_uri": "https://localhost:8080/",
          "height": 1000
        },
        "id": "B1mrQMlDB7v4",
        "outputId": "cecea033-ea13-4a20-db52-8477c9ba7acf"
      },
      "source": [
        "# Visualize the data\n",
        "display(sns.pairplot(tweetsCovid))"
      ],
      "execution_count": 9,
      "outputs": [
        {
          "output_type": "display_data",
          "data": {
            "text/plain": [
              "<seaborn.axisgrid.PairGrid at 0x7fe251910e90>"
            ]
          },
          "metadata": {
            "tags": []
          }
        },
        {
          "output_type": "display_data",
          "data": {
            "image/png": "[encoded data removed]",
            "text/plain": [
              "<Figure size 1260x1260 with 56 Axes>"
            ]
          },
          "metadata": {
            "tags": [],
            "needs_background": "light"
          }
        }
      ]
    },
    {
      "cell_type": "markdown",
      "metadata": {
        "id": "O5mMcfZSCFoG"
      },
      "source": [
        "## Individual Plots"
      ]
    },
    {
      "cell_type": "code",
      "metadata": {
        "colab": {
          "base_uri": "https://localhost:8080/",
          "height": 1000
        },
        "id": "gEfBoQaOCIWY",
        "outputId": "481b53d4-5f9b-42e1-dcde-d90240ce9e92"
      },
      "source": [
        "# Data Visualization\n",
        "\n",
        "# Florida Positive Cases vs. Date\n",
        "fig = sns.lineplot(data=tweetsCovid, x=\"date\", y=\"Positive Cases\", color = \"red\")\n",
        "plt.xlabel(\"Date\")\n",
        "plt.ylabel(\"Positive Cases\")\n",
        "plt.title(\"Florida Positive Cases vs. Date\")\n",
        "plt.xticks(rotation=45)\n",
        "plt.show(fig)\n",
        "\n",
        "# Florida Positive Cases vs. #Miami Tweets\n",
        "fig = sns.scatterplot(data=tweetsCovid, x=\"tweets\", y=\"Positive Cases\")\n",
        "plt.xlabel(\"Tweets\")\n",
        "plt.ylabel(\"Positive Cases\")\n",
        "plt.title(\"Florida Positive Cases vs. #Miami Tweets\") \n",
        "plt.show(fig)\n",
        "\n",
        "# Dade Percent Positive vs. #Miami Tweets\n",
        "fig = sns.scatterplot(data=tweetsCovid, x=\"tweets\", y=\"Dade Percent Positive\", color = \"purple\")\n",
        "plt.xlabel(\"Tweets\")\n",
        "plt.ylabel(\"Dade Percent Positive\")\n",
        "plt.title(\"Dade Percent Positive vs. #Miami Tweets\") \n",
        "plt.show(fig)\n",
        "\n",
        "# Dade Occupied Beds vs. #Miami Tweets\n",
        "fig = sns.scatterplot(data=tweetsCovid, x=\"tweets\", y=\"Dade Occupied Beds\", color = \"green\")\n",
        "plt.xlabel(\"Tweets\")\n",
        "plt.ylabel(\"Dade Occupied Beds\")\n",
        "plt.title(\"Dade Occupied Beds vs. #Miami Tweets\") \n",
        "plt.show(fig)"
      ],
      "execution_count": 13,
      "outputs": [
        {
          "output_type": "display_data",
          "data": {
            "image/png": "[encoded data removed]",
            "text/plain": [
              "<Figure size 432x288 with 1 Axes>"
            ]
          },
          "metadata": {
            "tags": [],
            "needs_background": "light"
          }
        },
        {
          "output_type": "display_data",
          "data": {
            "image/png": "[encoded data removed]",
            "text/plain": [
              "<Figure size 432x288 with 1 Axes>"
            ]
          },
          "metadata": {
            "tags": [],
            "needs_background": "light"
          }
        },
        {
          "output_type": "display_data",
          "data": {
            "image/png": "[encoded data removed]",
            "text/plain": [
              "<Figure size 432x288 with 1 Axes>"
            ]
          },
          "metadata": {
            "tags": [],
            "needs_background": "light"
          }
        },
        {
          "output_type": "display_data",
          "data": {
            "image/png": "[encoded data removed]",
            "text/plain": [
              "<Figure size 432x288 with 1 Axes>"
            ]
          },
          "metadata": {
            "tags": [],
            "needs_background": "light"
          }
        }
      ]
    },
    {
      "cell_type": "markdown",
      "metadata": {
        "id": "ulPw-o6yCLJb"
      },
      "source": [
        "# Correlation"
      ]
    },
    {
      "cell_type": "markdown",
      "metadata": {
        "id": "KpKGh28FEsnA"
      },
      "source": [
        "Correlation Rules:\n",
        "*   Strong Negative: -1 to -.75\n",
        "*   Weak Negative: -.74 to -.5\n",
        "*   No Correlation: -.49 to .49\n",
        "*   Weak Positive: .5 to .74\n",
        "*   Strong Positive: .75 to 1"
      ]
    },
    {
      "cell_type": "code",
      "metadata": {
        "colab": {
          "base_uri": "https://localhost:8080/",
          "height": 269
        },
        "id": "CbEhqpx8CMfU",
        "outputId": "bdc1addb-26c1-4638-ad5b-23d56922bf05"
      },
      "source": [
        "# Correlation\n",
        "display(tweetsCovid.corr())"
      ],
      "execution_count": 11,
      "outputs": [
        {
          "output_type": "display_data",
          "data": {
            "text/html": [
              "<div>\n",
              "<style scoped>\n",
              "    .dataframe tbody tr th:only-of-type {\n",
              "        vertical-align: middle;\n",
              "    }\n",
              "\n",
              "    .dataframe tbody tr th {\n",
              "        vertical-align: top;\n",
              "    }\n",
              "\n",
              "    .dataframe thead th {\n",
              "        text-align: right;\n",
              "    }\n",
              "</style>\n",
              "<table border=\"1\" class=\"dataframe\">\n",
              "  <thead>\n",
              "    <tr style=\"text-align: right;\">\n",
              "      <th></th>\n",
              "      <th>tweets</th>\n",
              "      <th>Dade Percent Positive</th>\n",
              "      <th>Negative Cases</th>\n",
              "      <th>Positive Cases</th>\n",
              "      <th>FL New COVID-19 Cases</th>\n",
              "      <th>Dade Available Beds</th>\n",
              "      <th>Dade Occupied Beds</th>\n",
              "    </tr>\n",
              "  </thead>\n",
              "  <tbody>\n",
              "    <tr>\n",
              "      <th>tweets</th>\n",
              "      <td>1.000000</td>\n",
              "      <td>-0.078050</td>\n",
              "      <td>-0.188564</td>\n",
              "      <td>-0.285589</td>\n",
              "      <td>-0.285589</td>\n",
              "      <td>0.566532</td>\n",
              "      <td>-0.736122</td>\n",
              "    </tr>\n",
              "    <tr>\n",
              "      <th>Dade Percent Positive</th>\n",
              "      <td>-0.078050</td>\n",
              "      <td>1.000000</td>\n",
              "      <td>-0.476254</td>\n",
              "      <td>-0.015519</td>\n",
              "      <td>-0.015519</td>\n",
              "      <td>0.260247</td>\n",
              "      <td>-0.404909</td>\n",
              "    </tr>\n",
              "    <tr>\n",
              "      <th>Negative Cases</th>\n",
              "      <td>-0.188564</td>\n",
              "      <td>-0.476254</td>\n",
              "      <td>1.000000</td>\n",
              "      <td>0.885320</td>\n",
              "      <td>0.885320</td>\n",
              "      <td>-0.293590</td>\n",
              "      <td>0.447660</td>\n",
              "    </tr>\n",
              "    <tr>\n",
              "      <th>Positive Cases</th>\n",
              "      <td>-0.285589</td>\n",
              "      <td>-0.015519</td>\n",
              "      <td>0.885320</td>\n",
              "      <td>1.000000</td>\n",
              "      <td>1.000000</td>\n",
              "      <td>-0.203974</td>\n",
              "      <td>0.315721</td>\n",
              "    </tr>\n",
              "    <tr>\n",
              "      <th>FL New COVID-19 Cases</th>\n",
              "      <td>-0.285589</td>\n",
              "      <td>-0.015519</td>\n",
              "      <td>0.885320</td>\n",
              "      <td>1.000000</td>\n",
              "      <td>1.000000</td>\n",
              "      <td>-0.203974</td>\n",
              "      <td>0.315721</td>\n",
              "    </tr>\n",
              "    <tr>\n",
              "      <th>Dade Available Beds</th>\n",
              "      <td>0.566532</td>\n",
              "      <td>0.260247</td>\n",
              "      <td>-0.293590</td>\n",
              "      <td>-0.203974</td>\n",
              "      <td>-0.203974</td>\n",
              "      <td>1.000000</td>\n",
              "      <td>-0.904736</td>\n",
              "    </tr>\n",
              "    <tr>\n",
              "      <th>Dade Occupied Beds</th>\n",
              "      <td>-0.736122</td>\n",
              "      <td>-0.404909</td>\n",
              "      <td>0.447660</td>\n",
              "      <td>0.315721</td>\n",
              "      <td>0.315721</td>\n",
              "      <td>-0.904736</td>\n",
              "      <td>1.000000</td>\n",
              "    </tr>\n",
              "  </tbody>\n",
              "</table>\n",
              "</div>"
            ],
            "text/plain": [
              "                         tweets  ...  Dade Occupied Beds\n",
              "tweets                 1.000000  ...           -0.736122\n",
              "Dade Percent Positive -0.078050  ...           -0.404909\n",
              "Negative Cases        -0.188564  ...            0.447660\n",
              "Positive Cases        -0.285589  ...            0.315721\n",
              "FL New COVID-19 Cases -0.285589  ...            0.315721\n",
              "Dade Available Beds    0.566532  ...           -0.904736\n",
              "Dade Occupied Beds    -0.736122  ...            1.000000\n",
              "\n",
              "[7 rows x 7 columns]"
            ]
          },
          "metadata": {
            "tags": []
          }
        }
      ]
    }
  ]
}